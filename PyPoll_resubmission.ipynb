{
 "cells": [
  {
   "cell_type": "code",
   "execution_count": 6,
   "metadata": {},
   "outputs": [
    {
     "name": "stdout",
     "output_type": "stream",
     "text": [
      "Election Results\n",
      "---------------------\n",
      "Total Votes: 3521001\n",
      "---------------------\n",
      "Khan: 63% 2218231\n",
      "Correy: 19% 2922431\n",
      "Li: 13% 3415371\n",
      "O'Tooley: 2% 3521001\n",
      "---------------------\n",
      "Winner: Khan\n",
      "---------------------\n"
     ]
    }
   ],
   "source": [
    "# Modules\n",
    "import os\n",
    "import csv\n",
    "\n",
    "os.getcwd ()\n",
    "\n",
    "# Path for file\n",
    "csvpath = os.path.join(\".\", \"election_data.csv\")\n",
    "with open(csvpath, newline=\"\") as csvfile:\n",
    "    csvreader = csv.reader(csvfile, delimiter=\",\")\n",
    "    csv_header = next(csvfile)\n",
    " \n",
    "    # variables\n",
    "    Candidates = {}\n",
    "    Count = 0\n",
    "    Votes_Cast = 0\n",
    "    percent_of_votes = 0\n",
    "    Most_Votes = 0\n",
    "    Most_Voted = \"\"\n",
    "    \n",
    "\n",
    "    \n",
    "    for row in csvreader:\n",
    "        \n",
    "        # Total number of votes cast\n",
    "        candidate = row[2]\n",
    "        Count += 1\n",
    "        if candidate in Candidates.keys():\n",
    "            Candidates[candidate] += 1\n",
    "        else:\n",
    "            Candidates[candidate] = 1\n",
    "    \n",
    "    \n",
    "    # Print Statements\n",
    "    print(\"Election Results\")\n",
    "    print(\"---------------------\")\n",
    "    print(f\"Total Votes: {Count}\")\n",
    "    print(\"---------------------\")\n",
    "    \n",
    "            \n",
    "    # Total votes for each candidate\n",
    "    for candidate in Candidates:\n",
    "        Votes_Cast += Candidates[candidate]\n",
    "    \n",
    "        # Percent of votes for each candidate\n",
    "        percent_of_votes = (Candidates[candidate])/(Count) * 100\n",
    "        print(f\"{candidate}: {int(percent_of_votes)}% {Votes_Cast}\")\n",
    "        \n",
    "        if Candidates[candidate] > Most_Votes:\n",
    "            Most_Voted = candidate\n",
    "            Most_Votes = Candidates[candidate]\n",
    "        \n",
    "        \n",
    "    \n",
    "    # Winner of the election.\n",
    "    print(\"---------------------\")\n",
    "    \n",
    "    print(f\"Winner: {Most_Voted}\")\n",
    "    \n",
    "    print(\"---------------------\")"
   ]
  },
  {
   "cell_type": "code",
   "execution_count": null,
   "metadata": {},
   "outputs": [],
   "source": []
  }
 ],
 "metadata": {
  "kernelspec": {
   "display_name": "Python 3",
   "language": "python",
   "name": "python3"
  },
  "language_info": {
   "codemirror_mode": {
    "name": "ipython",
    "version": 3
   },
   "file_extension": ".py",
   "mimetype": "text/x-python",
   "name": "python",
   "nbconvert_exporter": "python",
   "pygments_lexer": "ipython3",
   "version": "3.7.6"
  }
 },
 "nbformat": 4,
 "nbformat_minor": 4
}
