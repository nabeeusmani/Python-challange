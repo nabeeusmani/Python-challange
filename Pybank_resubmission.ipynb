{
 "cells": [
  {
   "cell_type": "code",
   "execution_count": 1,
   "metadata": {},
   "outputs": [
    {
     "name": "stdout",
     "output_type": "stream",
     "text": [
      "Financial Analysis\n",
      "------------------\n",
      "Total Months: 86\n",
      "Net Total:$ 38382578\n",
      "Average Change: $ -2315\n",
      "Greatest Increase:  Jan-2012 ($ 1926159 )\n",
      "Greatest Decrease:  Aug-2013 ($ -2196167 )\n"
     ]
    }
   ],
   "source": [
    "# Import Package/Modules\n",
    "import csv\n",
    "import numpy as np\n",
    "import os\n",
    "import math\n",
    "\n",
    "os.getcwd ()\n",
    "\n",
    "csvpath = os.path.join(\"budget_data.csv\")\n",
    "with open(csvpath, newline=\"\") as csvfile:\n",
    "    csvreader = csv.reader(csvfile, delimiter=\",\")\n",
    "    csv_header = next(csvfile)\n",
    "    \n",
    "      # variables\n",
    "    Months = []\n",
    "    Profit_Loss = []\n",
    "    Diff = []\n",
    "    Greatest_Increase_Date = []\n",
    "    Greatest_Decrease_Date = []\n",
    "    \n",
    "    for row in csvreader:\n",
    "        Months.append(row[0])   \n",
    "        Profit_Loss.append(int(row[1]))\n",
    "      \n",
    "    # Print Statements\n",
    "    print(\"Financial Analysis\")\n",
    "    print(\"------------------\")\n",
    "    print(\"Total Months:\",len(Months))\n",
    "    print(\"Net Total:$\",sum(Profit_Loss))\n",
    "    \n",
    "    for i in range(1, len(Profit_Loss)):\n",
    "        \n",
    "        # Average change \n",
    "        Diff.append(Profit_Loss[i] - Profit_Loss[i-1])\n",
    "        Average_Change = sum(Diff) / len(Diff)\n",
    "        \n",
    "        # Greatest increase and date\n",
    "        Greatest_Increase = max(Diff)\n",
    "        Greatest_Increase_Date = str(Months[Diff.index(max(Diff))])\n",
    "        \n",
    "        # Greatest decrease and date\n",
    "        Greatest_Decrease = min(Diff)\n",
    "        Greatest_Decrease_Date = str(Months[Diff.index(min(Diff))])\n",
    "        \n",
    "    # Print Statements\n",
    "    print(\"Average Change: $\", round(Average_Change))  \n",
    "    print(\"Greatest Increase: \", Greatest_Increase_Date, \"($\", Greatest_Increase,\")\")\n",
    "    print(\"Greatest Decrease: \", Greatest_Decrease_Date, \"($\", Greatest_Decrease,\")\")"
   ]
  },
  {
   "cell_type": "code",
   "execution_count": null,
   "metadata": {},
   "outputs": [],
   "source": [
    "\n",
    "  "
   ]
  }
 ],
 "metadata": {
  "kernelspec": {
   "display_name": "Python 3",
   "language": "python",
   "name": "python3"
  },
  "language_info": {
   "codemirror_mode": {
    "name": "ipython",
    "version": 3
   },
   "file_extension": ".py",
   "mimetype": "text/x-python",
   "name": "python",
   "nbconvert_exporter": "python",
   "pygments_lexer": "ipython3",
   "version": "3.7.6"
  }
 },
 "nbformat": 4,
 "nbformat_minor": 4
}
